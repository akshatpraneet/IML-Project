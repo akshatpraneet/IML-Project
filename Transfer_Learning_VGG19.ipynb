{
  "nbformat": 4,
  "nbformat_minor": 0,
  "metadata": {
    "accelerator": "GPU",
    "colab": {
      "name": "Transfer Learning SGD.ipynb",
      "provenance": [],
      "collapsed_sections": []
    },
    "kernelspec": {
      "display_name": "Python 3",
      "name": "python3"
    }
  },
  "cells": [
    {
      "cell_type": "code",
      "metadata": {
        "id": "5Wp4XwChnPr1"
      },
      "source": [
        "# Importing relevant libraries\n",
        "\n",
        "import tensorflow as tf\n",
        "from tensorflow import keras\n",
        "from tensorflow.keras import Sequential\n",
        "from tensorflow.keras import layers, activations, callbacks\n",
        "from keras.preprocessing.image import ImageDataGenerator\n",
        "from tensorflow.keras.applications import VGG19\n",
        "import matplotlib.pyplot as plt\n",
        "import seaborn as sns\n",
        "\n",
        "from tensorflow.keras.datasets import cifar10"
      ],
      "execution_count": null,
      "outputs": []
    },
    {
      "cell_type": "code",
      "metadata": {
        "id": "2miWMRTwu3DO",
        "colab": {
          "base_uri": "https://localhost:8080/"
        },
        "outputId": "c4efa85c-d636-4174-a32c-ed69fba33d15"
      },
      "source": [
        "# Loading the CIFAR-10 dataset\n",
        "(x_train, y_train), (x_test, y_test) = cifar10.load_data()"
      ],
      "execution_count": null,
      "outputs": [
        {
          "output_type": "stream",
          "text": [
            "Downloading data from https://www.cs.toronto.edu/~kriz/cifar-10-python.tar.gz\n",
            "170500096/170498071 [==============================] - 2s 0us/step\n"
          ],
          "name": "stdout"
        }
      ]
    },
    {
      "cell_type": "code",
      "metadata": {
        "id": "iQKgXJDQ2DOK"
      },
      "source": [
        "# Data pre-processing\n",
        "X_train, X_test = X_train/255 , X_test / 255\n",
        "\n",
        "# Data augmentation\n",
        "augment = ImageDataGenerator(rotation_range = 15, horizontal_flip = True, height_shift_range=0.1, width_shift_range=0.1, zoom_range=0.3)\n",
        "augment.fit(X_train)"
      ],
      "execution_count": null,
      "outputs": []
    },
    {
      "cell_type": "code",
      "metadata": {
        "id": "_FQH572svnDD",
        "colab": {
          "base_uri": "https://localhost:8080/"
        },
        "outputId": "124e8892-0b22-4ab0-c726-2041103232c8"
      },
      "source": [
        "# Loading the VGG19 base layer\n",
        "\n",
        "base = VGG19(include_top= False, input_shape=(x_train[0].shape), classes=10)"
      ],
      "execution_count": null,
      "outputs": [
        {
          "output_type": "stream",
          "text": [
            "Downloading data from https://storage.googleapis.com/tensorflow/keras-applications/vgg19/vgg19_weights_tf_dim_ordering_tf_kernels_notop.h5\n",
            "80142336/80134624 [==============================] - 1s 0us/step\n"
          ],
          "name": "stdout"
        }
      ]
    },
    {
      "cell_type": "code",
      "metadata": {
        "id": "mw9zS-oQwe8G",
        "colab": {
          "base_uri": "https://localhost:8080/"
        },
        "outputId": "b2a4295c-e45b-44f4-ac9f-ba24e5bf7836"
      },
      "source": [
        "# Setting up the Transfer learning model\n",
        "\n",
        "model = Sequential()\n",
        "\n",
        "model.add(base)\n",
        "model.add(layers.Flatten())\n",
        "model.add(layers.BatchNormalization())\n",
        "\n",
        "model.add(layers.Dense(512, activation='relu'))\n",
        "model.add(layers.BatchNormalization())\n",
        "model.add(layers.Dense(256, activation = 'relu'))\n",
        "model.add(layers.Dropout(0.5))\n",
        "model.add(layers.BatchNormalization())\n",
        "model.add(layers.Dense(128, activation= 'relu'))\n",
        "model.add(layers.Dropout(0.5))\n",
        "model.add(layers.BatchNormalization())\n",
        "model.add(layers.Dense(10, activation='softmax'))\n",
        "model.add(layers.Dense())\n",
        "\n",
        "model.summary()"
      ],
      "execution_count": null,
      "outputs": [
        {
          "output_type": "stream",
          "text": [
            "Model: \"sequential\"\n",
            "_________________________________________________________________\n",
            "Layer (type)                 Output Shape              Param #   \n",
            "=================================================================\n",
            "vgg19 (Functional)           (None, 1, 1, 512)         20024384  \n",
            "_________________________________________________________________\n",
            "flatten (Flatten)            (None, 512)               0         \n",
            "_________________________________________________________________\n",
            "batch_normalization (BatchNo (None, 512)               2048      \n",
            "_________________________________________________________________\n",
            "dense (Dense)                (None, 512)               262656    \n",
            "_________________________________________________________________\n",
            "batch_normalization_1 (Batch (None, 512)               2048      \n",
            "_________________________________________________________________\n",
            "dense_1 (Dense)              (None, 256)               131328    \n",
            "_________________________________________________________________\n",
            "dropout (Dropout)            (None, 256)               0         \n",
            "_________________________________________________________________\n",
            "batch_normalization_2 (Batch (None, 256)               1024      \n",
            "_________________________________________________________________\n",
            "dense_2 (Dense)              (None, 128)               32896     \n",
            "_________________________________________________________________\n",
            "dropout_1 (Dropout)          (None, 128)               0         \n",
            "_________________________________________________________________\n",
            "batch_normalization_3 (Batch (None, 128)               512       \n",
            "_________________________________________________________________\n",
            "dense_3 (Dense)              (None, 10)                1290      \n",
            "=================================================================\n",
            "Total params: 20,458,186\n",
            "Trainable params: 20,455,370\n",
            "Non-trainable params: 2,816\n",
            "_________________________________________________________________\n"
          ],
          "name": "stdout"
        }
      ]
    },
    {
      "cell_type": "code",
      "metadata": {
        "colab": {
          "base_uri": "https://localhost:8080/",
          "height": 1000
        },
        "id": "p-eLYvzAyVZx",
        "outputId": "a0d91389-4037-43a2-f7a1-2b8e15acd305"
      },
      "source": [
        "# A flowchart of the model\n",
        "tf.keras.utils.plot_model(model, 'TRANSFER LEARNING MODEL.png')"
      ],
      "execution_count": null,
      "outputs": [
        {
          "output_type": "execute_result",
          "data": {
            "image/png": "[encoded data removed]",
            "text/plain": [
              "<IPython.core.display.Image object>"
            ]
          },
          "metadata": {
            "tags": []
          },
          "execution_count": 8
        }
      ]
    },
    {
      "cell_type": "code",
      "metadata": {
        "id": "OKjHGGxcU7EV"
      },
      "source": [
        "# Callbacks for early stopping and saving\n",
        "\n",
        "earlystop = callbacks.EarlyStopping(\n",
        "    monitor = 'val_accuracy',\n",
        "    patience = 10,\n",
        "    verbose = 1,\n",
        ")\n",
        "\n",
        "checkpoint = callbacks.ModelCheckpoint(\n",
        "    filepath = '/content/drive/MyDrive/Colab Notebooks/transfer_sgd.h5',\n",
        "    monitor = 'val_accuracy',\n",
        "    verbose = 1,\n",
        "    save_best_model = True\n",
        ")"
      ],
      "execution_count": null,
      "outputs": []
    },
    {
      "cell_type": "code",
      "metadata": {
        "colab": {
          "base_uri": "https://localhost:8080/"
        },
        "id": "uioBakSBydTJ",
        "outputId": "a863beed-4a4d-452d-ddd2-b6fbb21f14c2"
      },
      "source": [
        "# Compiling the model\n",
        "\n",
        "opt = 'sgd'\n",
        "\n",
        "model.compile(optimizer= opt,\n",
        "              loss=tf.keras.losses.SparseCategoricalCrossentropy(from_logits=True),\n",
        "              metrics=['accuracy'])\n",
        "\n",
        "history = model.fit(x_train , y_train, \n",
        "                    epochs= 100, \n",
        "                    batch_size = 128, \n",
        "                    validation_split=0.2)"
      ],
      "execution_count": null,
      "outputs": [
        {
          "output_type": "stream",
          "text": [
            "Epoch 1/100\n",
            "  2/313 [..............................] - ETA: 24s - loss: 2.3137 - accuracy: 0.1055WARNING:tensorflow:Callbacks method `on_train_batch_end` is slow compared to the batch time (batch time: 0.0326s vs `on_train_batch_end` time: 0.0632s). Check your callbacks.\n",
            "313/313 [==============================] - 22s 70ms/step - loss: 2.1887 - accuracy: 0.2849 - val_loss: 2.1186 - val_accuracy: 0.3945\n",
            "Epoch 2/100\n",
            "313/313 [==============================] - 22s 70ms/step - loss: 1.9697 - accuracy: 0.5572 - val_loss: 1.8793 - val_accuracy: 0.6392\n",
            "Epoch 3/100\n",
            "313/313 [==============================] - 22s 70ms/step - loss: 1.8695 - accuracy: 0.6557 - val_loss: 1.9688 - val_accuracy: 0.5112\n",
            "Epoch 4/100\n",
            "313/313 [==============================] - 22s 70ms/step - loss: 1.8119 - accuracy: 0.7054 - val_loss: 1.8297 - val_accuracy: 0.6674\n",
            "Epoch 5/100\n",
            "313/313 [==============================] - 22s 70ms/step - loss: 1.7737 - accuracy: 0.7361 - val_loss: 1.8022 - val_accuracy: 0.6737\n",
            "Epoch 6/100\n",
            "313/313 [==============================] - 22s 70ms/step - loss: 1.7478 - accuracy: 0.7562 - val_loss: 1.7846 - val_accuracy: 0.6976\n",
            "Epoch 7/100\n",
            "313/313 [==============================] - 22s 70ms/step - loss: 1.7237 - accuracy: 0.7733 - val_loss: 1.7247 - val_accuracy: 0.7516\n",
            "Epoch 8/100\n",
            "313/313 [==============================] - 22s 70ms/step - loss: 1.7056 - accuracy: 0.7888 - val_loss: 1.7165 - val_accuracy: 0.7547\n",
            "Epoch 9/100\n",
            "313/313 [==============================] - 22s 70ms/step - loss: 1.6908 - accuracy: 0.8005 - val_loss: 1.7156 - val_accuracy: 0.7508\n",
            "Epoch 10/100\n",
            "313/313 [==============================] - 22s 70ms/step - loss: 1.6766 - accuracy: 0.8129 - val_loss: 1.6909 - val_accuracy: 0.7777\n",
            "Epoch 11/100\n",
            "313/313 [==============================] - 22s 69ms/step - loss: 1.6636 - accuracy: 0.8228 - val_loss: 1.6744 - val_accuracy: 0.7955\n",
            "Epoch 12/100\n",
            "313/313 [==============================] - 22s 70ms/step - loss: 1.6531 - accuracy: 0.8326 - val_loss: 1.6674 - val_accuracy: 0.7973\n",
            "Epoch 13/100\n",
            "313/313 [==============================] - 22s 70ms/step - loss: 1.6408 - accuracy: 0.8442 - val_loss: 1.6967 - val_accuracy: 0.7692\n",
            "Epoch 14/100\n",
            "313/313 [==============================] - 22s 70ms/step - loss: 1.6354 - accuracy: 0.8464 - val_loss: 1.6719 - val_accuracy: 0.7924\n",
            "Epoch 15/100\n",
            "313/313 [==============================] - 22s 69ms/step - loss: 1.6238 - accuracy: 0.8588 - val_loss: 1.7067 - val_accuracy: 0.7566\n",
            "Epoch 16/100\n",
            "313/313 [==============================] - 22s 70ms/step - loss: 1.6157 - accuracy: 0.8639 - val_loss: 1.6975 - val_accuracy: 0.7683\n",
            "Epoch 17/100\n",
            "313/313 [==============================] - 22s 70ms/step - loss: 1.6089 - accuracy: 0.8712 - val_loss: 1.6778 - val_accuracy: 0.7861\n",
            "Epoch 18/100\n",
            "313/313 [==============================] - 22s 70ms/step - loss: 1.6014 - accuracy: 0.8780 - val_loss: 1.6813 - val_accuracy: 0.7830\n",
            "Epoch 19/100\n",
            "313/313 [==============================] - 22s 70ms/step - loss: 1.5952 - accuracy: 0.8830 - val_loss: 1.6616 - val_accuracy: 0.8014\n",
            "Epoch 20/100\n",
            "313/313 [==============================] - 22s 70ms/step - loss: 1.5877 - accuracy: 0.8897 - val_loss: 1.6986 - val_accuracy: 0.7657\n",
            "Epoch 21/100\n",
            "313/313 [==============================] - 22s 70ms/step - loss: 1.5796 - accuracy: 0.8970 - val_loss: 1.6540 - val_accuracy: 0.8093\n",
            "Epoch 22/100\n",
            "313/313 [==============================] - 22s 70ms/step - loss: 1.5754 - accuracy: 0.9006 - val_loss: 1.6838 - val_accuracy: 0.7796\n",
            "Epoch 23/100\n",
            "313/313 [==============================] - 22s 69ms/step - loss: 1.5713 - accuracy: 0.9042 - val_loss: 1.6346 - val_accuracy: 0.8297\n",
            "Epoch 24/100\n",
            "313/313 [==============================] - 22s 70ms/step - loss: 1.5618 - accuracy: 0.9130 - val_loss: 1.6776 - val_accuracy: 0.7861\n",
            "Epoch 25/100\n",
            "313/313 [==============================] - 22s 70ms/step - loss: 1.5568 - accuracy: 0.9176 - val_loss: 1.6404 - val_accuracy: 0.8231\n",
            "Epoch 26/100\n",
            "313/313 [==============================] - 22s 70ms/step - loss: 1.5534 - accuracy: 0.9209 - val_loss: 1.6346 - val_accuracy: 0.8282\n",
            "Epoch 27/100\n",
            "313/313 [==============================] - 22s 70ms/step - loss: 1.5503 - accuracy: 0.9233 - val_loss: 1.6495 - val_accuracy: 0.8125\n",
            "Epoch 28/100\n",
            "313/313 [==============================] - 22s 70ms/step - loss: 1.5437 - accuracy: 0.9299 - val_loss: 1.6560 - val_accuracy: 0.8077\n",
            "Epoch 29/100\n",
            "313/313 [==============================] - 22s 69ms/step - loss: 1.5416 - accuracy: 0.9315 - val_loss: 1.6251 - val_accuracy: 0.8370\n",
            "Epoch 30/100\n",
            "313/313 [==============================] - 22s 69ms/step - loss: 1.5377 - accuracy: 0.9343 - val_loss: 1.6428 - val_accuracy: 0.8210\n",
            "Epoch 31/100\n",
            "313/313 [==============================] - 22s 70ms/step - loss: 1.5342 - accuracy: 0.9375 - val_loss: 1.6383 - val_accuracy: 0.8234\n",
            "Epoch 32/100\n",
            "313/313 [==============================] - 22s 70ms/step - loss: 1.5302 - accuracy: 0.9413 - val_loss: 1.6541 - val_accuracy: 0.8086\n",
            "Epoch 33/100\n",
            "313/313 [==============================] - 22s 70ms/step - loss: 1.5265 - accuracy: 0.9442 - val_loss: 1.6229 - val_accuracy: 0.8397\n",
            "Epoch 34/100\n",
            "313/313 [==============================] - 22s 69ms/step - loss: 1.5250 - accuracy: 0.9457 - val_loss: 1.6448 - val_accuracy: 0.8175\n",
            "Epoch 35/100\n",
            "313/313 [==============================] - 22s 69ms/step - loss: 1.5230 - accuracy: 0.9471 - val_loss: 1.6392 - val_accuracy: 0.8221\n",
            "Epoch 36/100\n",
            "313/313 [==============================] - 22s 69ms/step - loss: 1.5190 - accuracy: 0.9502 - val_loss: 1.6369 - val_accuracy: 0.8255\n",
            "Epoch 37/100\n",
            "313/313 [==============================] - 22s 69ms/step - loss: 1.5174 - accuracy: 0.9524 - val_loss: 1.6246 - val_accuracy: 0.8371\n",
            "Epoch 38/100\n",
            "313/313 [==============================] - 22s 69ms/step - loss: 1.5152 - accuracy: 0.9544 - val_loss: 1.6234 - val_accuracy: 0.8384\n",
            "Epoch 39/100\n",
            "313/313 [==============================] - 22s 69ms/step - loss: 1.5145 - accuracy: 0.9546 - val_loss: 1.6277 - val_accuracy: 0.8345\n",
            "Epoch 40/100\n",
            "313/313 [==============================] - 22s 70ms/step - loss: 1.5132 - accuracy: 0.9556 - val_loss: 1.6638 - val_accuracy: 0.7975\n",
            "Epoch 41/100\n",
            "313/313 [==============================] - 22s 70ms/step - loss: 1.5106 - accuracy: 0.9579 - val_loss: 1.6732 - val_accuracy: 0.7865\n",
            "Epoch 42/100\n",
            "313/313 [==============================] - 22s 70ms/step - loss: 1.5100 - accuracy: 0.9583 - val_loss: 1.6208 - val_accuracy: 0.8394\n",
            "Epoch 43/100\n",
            "313/313 [==============================] - 22s 70ms/step - loss: 1.5066 - accuracy: 0.9613 - val_loss: 1.6227 - val_accuracy: 0.8375\n",
            "Epoch 44/100\n",
            "313/313 [==============================] - 22s 70ms/step - loss: 1.5059 - accuracy: 0.9620 - val_loss: 1.6249 - val_accuracy: 0.8357\n",
            "Epoch 45/100\n",
            "313/313 [==============================] - 22s 70ms/step - loss: 1.5045 - accuracy: 0.9630 - val_loss: 1.6440 - val_accuracy: 0.8180\n",
            "Epoch 46/100\n",
            "313/313 [==============================] - 22s 70ms/step - loss: 1.5031 - accuracy: 0.9647 - val_loss: 1.6273 - val_accuracy: 0.8341\n",
            "Epoch 47/100\n",
            "313/313 [==============================] - 22s 70ms/step - loss: 1.5011 - accuracy: 0.9659 - val_loss: 1.6294 - val_accuracy: 0.8318\n",
            "Epoch 48/100\n",
            "313/313 [==============================] - 22s 70ms/step - loss: 1.5007 - accuracy: 0.9661 - val_loss: 1.6195 - val_accuracy: 0.8417\n",
            "Epoch 49/100\n",
            "313/313 [==============================] - 22s 69ms/step - loss: 1.5005 - accuracy: 0.9663 - val_loss: 1.6157 - val_accuracy: 0.8457\n",
            "Epoch 50/100\n",
            "313/313 [==============================] - 22s 69ms/step - loss: 1.4994 - accuracy: 0.9671 - val_loss: 1.6617 - val_accuracy: 0.7986\n",
            "Epoch 51/100\n",
            "313/313 [==============================] - 22s 70ms/step - loss: 1.4992 - accuracy: 0.9673 - val_loss: 1.6191 - val_accuracy: 0.8410\n",
            "Epoch 52/100\n",
            "313/313 [==============================] - 22s 69ms/step - loss: 1.4985 - accuracy: 0.9684 - val_loss: 1.6228 - val_accuracy: 0.8375\n",
            "Epoch 53/100\n",
            "313/313 [==============================] - 22s 70ms/step - loss: 1.4972 - accuracy: 0.9692 - val_loss: 1.6163 - val_accuracy: 0.8459\n",
            "Epoch 54/100\n",
            "313/313 [==============================] - 22s 69ms/step - loss: 1.4967 - accuracy: 0.9696 - val_loss: 1.6223 - val_accuracy: 0.8394\n",
            "Epoch 55/100\n",
            "313/313 [==============================] - 22s 69ms/step - loss: 1.4951 - accuracy: 0.9710 - val_loss: 1.6160 - val_accuracy: 0.8451\n",
            "Epoch 56/100\n",
            "313/313 [==============================] - 22s 69ms/step - loss: 1.4947 - accuracy: 0.9715 - val_loss: 1.6157 - val_accuracy: 0.8449\n",
            "Epoch 57/100\n",
            "313/313 [==============================] - 22s 69ms/step - loss: 1.4930 - accuracy: 0.9726 - val_loss: 1.6293 - val_accuracy: 0.8315\n",
            "Epoch 58/100\n",
            "313/313 [==============================] - 22s 70ms/step - loss: 1.4934 - accuracy: 0.9723 - val_loss: 1.6163 - val_accuracy: 0.8457\n",
            "Epoch 59/100\n",
            "313/313 [==============================] - 22s 69ms/step - loss: 1.4918 - accuracy: 0.9736 - val_loss: 1.6310 - val_accuracy: 0.8308\n",
            "Epoch 60/100\n",
            "313/313 [==============================] - 22s 69ms/step - loss: 1.4917 - accuracy: 0.9738 - val_loss: 1.6141 - val_accuracy: 0.8464\n",
            "Epoch 61/100\n",
            "313/313 [==============================] - 22s 69ms/step - loss: 1.4914 - accuracy: 0.9739 - val_loss: 1.6168 - val_accuracy: 0.8435\n",
            "Epoch 62/100\n",
            "313/313 [==============================] - 22s 69ms/step - loss: 1.4907 - accuracy: 0.9744 - val_loss: 1.6312 - val_accuracy: 0.8304\n",
            "Epoch 63/100\n",
            "313/313 [==============================] - 22s 69ms/step - loss: 1.4907 - accuracy: 0.9745 - val_loss: 1.6122 - val_accuracy: 0.8497\n",
            "Epoch 64/100\n",
            "313/313 [==============================] - 22s 69ms/step - loss: 1.4908 - accuracy: 0.9742 - val_loss: 1.6217 - val_accuracy: 0.8387\n",
            "Epoch 65/100\n",
            "313/313 [==============================] - 22s 69ms/step - loss: 1.4896 - accuracy: 0.9753 - val_loss: 1.6170 - val_accuracy: 0.8431\n",
            "Epoch 66/100\n",
            "313/313 [==============================] - 22s 69ms/step - loss: 1.4904 - accuracy: 0.9746 - val_loss: 1.6159 - val_accuracy: 0.8454\n",
            "Epoch 67/100\n",
            "313/313 [==============================] - 22s 69ms/step - loss: 1.4910 - accuracy: 0.9740 - val_loss: 1.6240 - val_accuracy: 0.8375\n",
            "Epoch 68/100\n",
            "313/313 [==============================] - 22s 69ms/step - loss: 1.4893 - accuracy: 0.9757 - val_loss: 1.6174 - val_accuracy: 0.8444\n",
            "Epoch 69/100\n",
            "313/313 [==============================] - 22s 69ms/step - loss: 1.4886 - accuracy: 0.9761 - val_loss: 1.6120 - val_accuracy: 0.8488\n",
            "Epoch 70/100\n",
            "313/313 [==============================] - 22s 69ms/step - loss: 1.4880 - accuracy: 0.9768 - val_loss: 1.6177 - val_accuracy: 0.8452\n",
            "Epoch 71/100\n",
            "313/313 [==============================] - 22s 69ms/step - loss: 1.4887 - accuracy: 0.9762 - val_loss: 1.6245 - val_accuracy: 0.8370\n",
            "Epoch 72/100\n",
            "313/313 [==============================] - 22s 70ms/step - loss: 1.4870 - accuracy: 0.9777 - val_loss: 1.6118 - val_accuracy: 0.8495\n",
            "Epoch 73/100\n",
            "313/313 [==============================] - 22s 69ms/step - loss: 1.4862 - accuracy: 0.9782 - val_loss: 1.6185 - val_accuracy: 0.8425\n",
            "Epoch 74/100\n",
            "313/313 [==============================] - 22s 69ms/step - loss: 1.4862 - accuracy: 0.9781 - val_loss: 1.6116 - val_accuracy: 0.8499\n",
            "Epoch 75/100\n",
            "313/313 [==============================] - 22s 69ms/step - loss: 1.4860 - accuracy: 0.9781 - val_loss: 1.6209 - val_accuracy: 0.8404\n",
            "Epoch 76/100\n",
            "313/313 [==============================] - 22s 69ms/step - loss: 1.4855 - accuracy: 0.9786 - val_loss: 1.6261 - val_accuracy: 0.8358\n",
            "Epoch 77/100\n",
            "313/313 [==============================] - 22s 69ms/step - loss: 1.4852 - accuracy: 0.9788 - val_loss: 1.6206 - val_accuracy: 0.8409\n",
            "Epoch 78/100\n",
            "313/313 [==============================] - 22s 70ms/step - loss: 1.4857 - accuracy: 0.9786 - val_loss: 1.6214 - val_accuracy: 0.8391\n",
            "Epoch 79/100\n",
            "313/313 [==============================] - 22s 70ms/step - loss: 1.4847 - accuracy: 0.9793 - val_loss: 1.6192 - val_accuracy: 0.8424\n",
            "Epoch 80/100\n",
            "313/313 [==============================] - 22s 70ms/step - loss: 1.4850 - accuracy: 0.9791 - val_loss: 1.6417 - val_accuracy: 0.8179\n",
            "Epoch 81/100\n",
            "313/313 [==============================] - 22s 70ms/step - loss: 1.4861 - accuracy: 0.9783 - val_loss: 1.6184 - val_accuracy: 0.8428\n",
            "Epoch 82/100\n",
            "313/313 [==============================] - 22s 70ms/step - loss: 1.4852 - accuracy: 0.9789 - val_loss: 1.6174 - val_accuracy: 0.8430\n",
            "Epoch 83/100\n",
            "313/313 [==============================] - 22s 70ms/step - loss: 1.4850 - accuracy: 0.9791 - val_loss: 1.6181 - val_accuracy: 0.8427\n",
            "Epoch 84/100\n",
            "313/313 [==============================] - 22s 70ms/step - loss: 1.4858 - accuracy: 0.9783 - val_loss: 1.6137 - val_accuracy: 0.8479\n",
            "Epoch 85/100\n",
            "313/313 [==============================] - 22s 70ms/step - loss: 1.4852 - accuracy: 0.9789 - val_loss: 1.6134 - val_accuracy: 0.8475\n",
            "Epoch 86/100\n",
            "313/313 [==============================] - 22s 70ms/step - loss: 1.4849 - accuracy: 0.9792 - val_loss: 1.6157 - val_accuracy: 0.8463\n",
            "Epoch 87/100\n",
            "313/313 [==============================] - 22s 70ms/step - loss: 1.4846 - accuracy: 0.9793 - val_loss: 1.6130 - val_accuracy: 0.8482\n",
            "Epoch 88/100\n",
            "313/313 [==============================] - 22s 70ms/step - loss: 1.4835 - accuracy: 0.9803 - val_loss: 1.6184 - val_accuracy: 0.8421\n",
            "Epoch 89/100\n",
            "313/313 [==============================] - 22s 70ms/step - loss: 1.4834 - accuracy: 0.9804 - val_loss: 1.6168 - val_accuracy: 0.8444\n",
            "Epoch 90/100\n",
            "313/313 [==============================] - 22s 70ms/step - loss: 1.4840 - accuracy: 0.9800 - val_loss: 1.6221 - val_accuracy: 0.8388\n",
            "Epoch 91/100\n",
            "313/313 [==============================] - 22s 70ms/step - loss: 1.4844 - accuracy: 0.9796 - val_loss: 1.6155 - val_accuracy: 0.8455\n",
            "Epoch 92/100\n",
            "313/313 [==============================] - 22s 70ms/step - loss: 1.4830 - accuracy: 0.9807 - val_loss: 1.6305 - val_accuracy: 0.8292\n",
            "Epoch 93/100\n",
            "313/313 [==============================] - 22s 70ms/step - loss: 1.4834 - accuracy: 0.9804 - val_loss: 1.6431 - val_accuracy: 0.8177\n",
            "Epoch 94/100\n",
            "313/313 [==============================] - 22s 70ms/step - loss: 1.4828 - accuracy: 0.9810 - val_loss: 1.6156 - val_accuracy: 0.8443\n",
            "Epoch 95/100\n",
            "313/313 [==============================] - 22s 70ms/step - loss: 1.4829 - accuracy: 0.9807 - val_loss: 1.6120 - val_accuracy: 0.8486\n",
            "Epoch 96/100\n",
            "313/313 [==============================] - 22s 70ms/step - loss: 1.4832 - accuracy: 0.9804 - val_loss: 1.6140 - val_accuracy: 0.8464\n",
            "Epoch 97/100\n",
            "313/313 [==============================] - 22s 70ms/step - loss: 1.4837 - accuracy: 0.9802 - val_loss: 1.6133 - val_accuracy: 0.8479\n",
            "Epoch 98/100\n",
            "313/313 [==============================] - 22s 69ms/step - loss: 1.4823 - accuracy: 0.9813 - val_loss: 1.6201 - val_accuracy: 0.8419\n",
            "Epoch 99/100\n",
            "313/313 [==============================] - 22s 69ms/step - loss: 1.4816 - accuracy: 0.9819 - val_loss: 1.6100 - val_accuracy: 0.8508\n",
            "Epoch 100/100\n",
            "313/313 [==============================] - 22s 69ms/step - loss: 1.4815 - accuracy: 0.9821 - val_loss: 1.6113 - val_accuracy: 0.8492\n"
          ],
          "name": "stdout"
        }
      ]
    },
    {
      "cell_type": "code",
      "metadata": {
        "colab": {
          "base_uri": "https://localhost:8080/"
        },
        "id": "4qjdebRBGwuR",
        "outputId": "bafb57aa-ef23-4322-d43e-4c101599c5a3"
      },
      "source": [
        "# Testing accuracy\n",
        "model.evaluate(x_test, y_test)"
      ],
      "execution_count": null,
      "outputs": [
        {
          "output_type": "stream",
          "text": [
            "313/313 [==============================] - 3s 10ms/step - loss: 1.6113 - accuracy: 0.8493\n"
          ],
          "name": "stdout"
        },
        {
          "output_type": "execute_result",
          "data": {
            "text/plain": [
              "[1.6112666130065918, 0.8493000268936157]"
            ]
          },
          "metadata": {
            "tags": []
          },
          "execution_count": 18
        }
      ]
    },
    {
      "cell_type": "code",
      "metadata": {
        "colab": {
          "base_uri": "https://localhost:8080/",
          "height": 296
        },
        "id": "zIGNcIp7UTdL",
        "outputId": "e95a43a6-73d8-4c70-be97-17c7f4a01524"
      },
      "source": [
        "# Plotting training and validation accuracy over epochs\n",
        "\n",
        "plt.plot(history.history['accuracy'], label='accuracy')\n",
        "plt.plot(history.history['val_accuracy'], label = 'val_accuracy')\n",
        "plt.xlabel('Epoch')\n",
        "plt.ylabel('Accuracy')\n",
        "plt.legend(loc='lower right')\n",
        "plt.savefig('transfer_learning_accuracy.png')"
      ],
      "execution_count": null,
      "outputs": [
        {
          "output_type": "execute_result",
          "data": {
            "text/plain": [
              "<matplotlib.legend.Legend at 0x7f086460da20>"
            ]
          },
          "metadata": {
            "tags": []
          },
          "execution_count": 19
        },
        {
          "output_type": "display_data",
          "data": {
            "image/png": "[encoded data removed]",
            "text/plain": [
              "<Figure size 432x288 with 1 Axes>"
            ]
          },
          "metadata": {
            "tags": [],
            "needs_background": "light"
          }
        }
      ]
    },
    {
      "cell_type": "code",
      "metadata": {
        "colab": {
          "base_uri": "https://localhost:8080/",
          "height": 265
        },
        "id": "3r8G9vSLAIVO",
        "outputId": "6fa906a4-d4d4-4af6-92ec-db2565bad21c"
      },
      "source": [
        "# Plotting training and validation accuracy over epochs\n",
        "\n",
        "plt.plot(history.history['loss'], label='loss')\n",
        "plt.plot(history.history['val_loss'], label='val_loss')\n",
        "plt.xlabel('Epoch')\n",
        "plt.ylabel('Loss')\n",
        "plt.legend(loc='lower right')\n",
        "plt.savefig('transfer_learning_loss.png')"
      ],
      "execution_count": null,
      "outputs": [
        {
          "output_type": "display_data",
          "data": {
            "image/png": "[encoded data removed]",
            "text/plain": [
              "<Figure size 432x288 with 1 Axes>"
            ]
          },
          "metadata": {
            "tags": [],
            "needs_background": "light"
          }
        }
      ]
    },
    {
      "cell_type": "code",
      "metadata": {
        "id": "eL4aYW8iM6wm"
      },
      "source": [
        ""
      ],
      "execution_count": null,
      "outputs": []
    }
  ]
}